{
 "cells": [
  {
   "cell_type": "code",
   "execution_count": 1,
   "metadata": {
    "collapsed": true
   },
   "outputs": [],
   "source": [
    "import os"
   ]
  },
  {
   "cell_type": "code",
   "execution_count": 4,
   "metadata": {},
   "outputs": [
    {
     "data": {
      "text/plain": [
       "'..'"
      ]
     },
     "execution_count": 4,
     "metadata": {},
     "output_type": "execute_result"
    }
   ],
   "source": [
    "os.pardir"
   ]
  },
  {
   "cell_type": "code",
   "execution_count": 5,
   "metadata": {},
   "outputs": [
    {
     "data": {
      "text/plain": [
       "<module 'ntpath' from 'F:\\\\Python\\\\lib\\\\ntpath.py'>"
      ]
     },
     "execution_count": 5,
     "metadata": {},
     "output_type": "execute_result"
    }
   ],
   "source": [
    "os.path"
   ]
  },
  {
   "cell_type": "code",
   "execution_count": 1,
   "metadata": {
    "collapsed": true
   },
   "outputs": [],
   "source": [
    "open_file = 'H1B_FY_2016'"
   ]
  },
  {
   "cell_type": "code",
   "execution_count": 2,
   "metadata": {
    "collapsed": true
   },
   "outputs": [],
   "source": [
    "def find_index(header):\n",
    "    ind = []\n",
    "    for e, i in enumerate(header):\n",
    "        if len(ind)==3: continue\n",
    "        if any(x in i for x in ['STATUS', 'SOC_NAME']): \n",
    "            ind.append(e)\n",
    "        if all(x in i for x in ['STATE', 'WORK']):\n",
    "            ind.append(e)\n",
    "    return(ind)"
   ]
  },
  {
   "cell_type": "code",
   "execution_count": 3,
   "metadata": {
    "collapsed": true
   },
   "outputs": [],
   "source": [
    "def find_string(string, start, end, sym = '\"'):\n",
    "    flag = True\n",
    "    index = []\n",
    "    while flag:\n",
    "        index_op = string.find(sym, start, end)\n",
    "        if index_op == -1: \n",
    "            flag = False\n",
    "        else: \n",
    "            start = index_op+1\n",
    "            index.append(index_op)\n",
    "    return(index)"
   ]
  },
  {
   "cell_type": "code",
   "execution_count": 4,
   "metadata": {
    "collapsed": true
   },
   "outputs": [],
   "source": [
    "def clear_string(string, op = '\"'):\n",
    "    index = find_string(string, start = 0, end = len(string), sym = op)\n",
    "    num_op = int(len(index)/2)\n",
    "    index_rm = []\n",
    "    for i in range(num_op):\n",
    "        index_op = find_string(string, start = index[2*i], end = index[2*i+1], sym = ';')\n",
    "        #index_op = string.find(';', index[2*i], index[2*i+1])\n",
    "        index_rm.extend(index_op)\n",
    "    string_part = []\n",
    "    start = 0\n",
    "    for i in range(len(index_rm)):\n",
    "        end = (index_rm[i+1] if i < len(index_rm)-1 else len(string)-1) \n",
    "        string_br = [string[start:index_rm[i]], string[(index_rm[i]+1):end]]\n",
    "        string_part.extend(string_br)\n",
    "        start = end+1\n",
    "    return(''.join(string_part))"
   ]
  },
  {
   "cell_type": "code",
   "execution_count": 5,
   "metadata": {
    "collapsed": true
   },
   "outputs": [],
   "source": [
    "def break_tie(list_sorted):\n",
    "    ks = [i[0] for i in list_sorted[:10]]\n",
    "    vals = [i[1] for i in list_sorted[:10]]\n",
    "    ind = []\n",
    "    for i in range(len(vals)):\n",
    "        if (vals[i]-vals[i-1]) == 0: ind.append(i)\n",
    "    if len(ind)>0:\n",
    "        for i in range(len(ind)):\n",
    "            if ks[ind[i]]<ks[ind[i]-1]:\n",
    "                dummy = ks[ind[i]-1]\n",
    "                ks[ind[i]-1] = ks[ind[i]]\n",
    "                ks[ind[i]] = dummy\n",
    "    return(ks, vals)"
   ]
  },
  {
   "cell_type": "code",
   "execution_count": 6,
   "metadata": {
    "collapsed": true
   },
   "outputs": [],
   "source": [
    "with open(open_file+'.csv', encoding=\"utf8\") as soap:\n",
    "    header = soap.readline()\n",
    "    header = header.strip().split(';')\n",
    "    req_index = find_index(header)\n",
    "    dict_index = {'status': req_index[0], 'title': req_index[1], 'state': req_index[2]}\n",
    "    list_data = [] \n",
    "    for line in soap:\n",
    "        dict_data = dict.fromkeys(['title', 'status', 'state'])\n",
    "        try:\n",
    "            line_list= line.strip().split(';')\n",
    "            if len(line_list)!= len(header): \n",
    "                line_list = clear_string(line).strip().split(';')\n",
    "            for k in dict_data.keys():\n",
    "                dict_data[k] = line_list[dict_index[k]]\n",
    "            list_data.append(dict_data)\n",
    "        except:\n",
    "            continue"
   ]
  },
  {
   "cell_type": "markdown",
   "metadata": {},
   "source": [
    "## Title"
   ]
  },
  {
   "cell_type": "code",
   "execution_count": 7,
   "metadata": {
    "collapsed": true
   },
   "outputs": [],
   "source": [
    "title_list = [i['title'] for i in list_data]\n",
    "title_dict_init = {}\n",
    "for i in title_list:\n",
    "    title_dict_init[i] = title_dict_init.get(i, 0)+1"
   ]
  },
  {
   "cell_type": "code",
   "execution_count": 8,
   "metadata": {
    "collapsed": true
   },
   "outputs": [],
   "source": [
    "num_row = min(10, len(title_dict_init))"
   ]
  },
  {
   "cell_type": "code",
   "execution_count": 9,
   "metadata": {
    "collapsed": true
   },
   "outputs": [],
   "source": [
    "top_titles = sorted(title_dict_init.items(), key = lambda k: k[1], reverse=True)[:num_row]"
   ]
  },
  {
   "cell_type": "code",
   "execution_count": 10,
   "metadata": {
    "collapsed": true
   },
   "outputs": [],
   "source": [
    "top_titles = [i for i,_ in top_titles]"
   ]
  },
  {
   "cell_type": "code",
   "execution_count": 11,
   "metadata": {
    "collapsed": true
   },
   "outputs": [],
   "source": [
    "certified = [i for i in list_data if (i['status'] == 'CERTIFIED')&(i['title'] in top_titles)]"
   ]
  },
  {
   "cell_type": "code",
   "execution_count": 12,
   "metadata": {
    "collapsed": true
   },
   "outputs": [],
   "source": [
    "title = [i['title'] for i in certified]"
   ]
  },
  {
   "cell_type": "code",
   "execution_count": 13,
   "metadata": {
    "collapsed": true
   },
   "outputs": [],
   "source": [
    "title_dict = {}\n",
    "for t in title:\n",
    "    if t == '': continue\n",
    "    title_dict[t] = title_dict.get(t, 0)+1"
   ]
  },
  {
   "cell_type": "code",
   "execution_count": 14,
   "metadata": {
    "collapsed": true
   },
   "outputs": [],
   "source": [
    "title_sorted = sorted(title_dict.items(), key = lambda k: k[1], reverse = True)"
   ]
  },
  {
   "cell_type": "code",
   "execution_count": 15,
   "metadata": {
    "collapsed": true
   },
   "outputs": [],
   "source": [
    "ks, vals = break_tie(title_sorted)"
   ]
  },
  {
   "cell_type": "code",
   "execution_count": 16,
   "metadata": {
    "collapsed": true
   },
   "outputs": [],
   "source": [
    "all_certified = [i for i in list_data if i['status'] == 'CERTIFIED']"
   ]
  },
  {
   "cell_type": "code",
   "execution_count": 17,
   "metadata": {
    "collapsed": true
   },
   "outputs": [],
   "source": [
    "perc_certified = [str(round(val/len(all_certified)*100, 1))+'%' for val in vals]"
   ]
  },
  {
   "cell_type": "code",
   "execution_count": 18,
   "metadata": {
    "collapsed": true
   },
   "outputs": [],
   "source": [
    "with open (open_file+'title.txt', 'w') as file:\n",
    "    file.write('TOP_OCCUPATIONS; NUMBER_CERTIFIED_APPLICATIONS; PERCENTAGE \\n')\n",
    "    for i in range(len(ks)):\n",
    "        file.write(str(ks[i]) +';' +str(vals[i])+';'+str(perc_certified[i]) + '\\n')"
   ]
  },
  {
   "cell_type": "markdown",
   "metadata": {},
   "source": [
    "## States"
   ]
  },
  {
   "cell_type": "code",
   "execution_count": 19,
   "metadata": {
    "collapsed": true
   },
   "outputs": [],
   "source": [
    "states = [i['state'] for i in list_data]"
   ]
  },
  {
   "cell_type": "code",
   "execution_count": 20,
   "metadata": {
    "collapsed": true
   },
   "outputs": [],
   "source": [
    "states_dict = {}\n",
    "for s in states:\n",
    "    if len(s) == 0: continue\n",
    "    states_dict[s] = states_dict.get(s,0)+1"
   ]
  },
  {
   "cell_type": "code",
   "execution_count": 21,
   "metadata": {
    "collapsed": true
   },
   "outputs": [],
   "source": [
    "states_dict = sorted(states_dict.items(), key = lambda k: k[1], reverse=True)"
   ]
  },
  {
   "cell_type": "code",
   "execution_count": 22,
   "metadata": {
    "collapsed": true
   },
   "outputs": [],
   "source": [
    "num_row = min(10, len(states_dict))"
   ]
  },
  {
   "cell_type": "code",
   "execution_count": 23,
   "metadata": {
    "collapsed": true
   },
   "outputs": [],
   "source": [
    "top_states = [i for i,_ in states_dict[:num_row]]"
   ]
  },
  {
   "cell_type": "code",
   "execution_count": 24,
   "metadata": {
    "collapsed": true
   },
   "outputs": [],
   "source": [
    "certified_states = [i for i in list_data if (i['state'] in top_states)&(i['status'] == 'CERTIFIED')]"
   ]
  },
  {
   "cell_type": "code",
   "execution_count": 25,
   "metadata": {
    "collapsed": true
   },
   "outputs": [],
   "source": [
    "top_certified_states = [i['state'] for i in certified_states]"
   ]
  },
  {
   "cell_type": "code",
   "execution_count": 26,
   "metadata": {
    "collapsed": true
   },
   "outputs": [],
   "source": [
    "top_certified_states_dict = {}\n",
    "for i in top_certified_states:\n",
    "    top_certified_states_dict[i] = top_certified_states_dict.get(i,0)+1"
   ]
  },
  {
   "cell_type": "code",
   "execution_count": 27,
   "metadata": {
    "collapsed": true
   },
   "outputs": [],
   "source": [
    "top_certified_states_dict = sorted(top_certified_states_dict.items(), key = lambda k: k[1], reverse=True)"
   ]
  },
  {
   "cell_type": "code",
   "execution_count": 28,
   "metadata": {
    "collapsed": true
   },
   "outputs": [],
   "source": [
    "state, vals = break_tie(top_certified_states_dict)"
   ]
  },
  {
   "cell_type": "code",
   "execution_count": 29,
   "metadata": {
    "collapsed": true
   },
   "outputs": [],
   "source": [
    "perc_state = [str(round(val/len(all_certified)*100, 1))+'%' for val in vals]"
   ]
  },
  {
   "cell_type": "code",
   "execution_count": 30,
   "metadata": {
    "collapsed": true
   },
   "outputs": [],
   "source": [
    "with open (open_file+'state.txt', 'w') as file:\n",
    "    file.write('TOP_STATES; NUMBER_CERTIFIED_APPLICATIONS; PERCENTAGE \\n')\n",
    "    for i in range(len(state)):\n",
    "        file.write(str(state[i]) +';' +str(vals[i])+';'+str(perc_state[i]) + '\\n')"
   ]
  }
 ],
 "metadata": {
  "kernelspec": {
   "display_name": "Python 3",
   "language": "python",
   "name": "python3"
  },
  "language_info": {
   "codemirror_mode": {
    "name": "ipython",
    "version": 3
   },
   "file_extension": ".py",
   "mimetype": "text/x-python",
   "name": "python",
   "nbconvert_exporter": "python",
   "pygments_lexer": "ipython3",
   "version": "3.6.2"
  }
 },
 "nbformat": 4,
 "nbformat_minor": 2
}
